{
 "cells": [
  {
   "cell_type": "code",
   "execution_count": null,
   "id": "d8d71563",
   "metadata": {},
   "outputs": [],
   "source": [
    "print(\"hello\")\n",
    "\n"
   ]
  },
  {
   "cell_type": "code",
   "execution_count": 28,
   "id": "d5f949f0",
   "metadata": {},
   "outputs": [
    {
     "name": "stdout",
     "output_type": "stream",
     "text": [
      "Enter your password:\n",
      "rgrg8\n",
      "No. Length of string has to be atleast 8 characters. Try Again!\n"
     ]
    },
    {
     "name": "stderr",
     "output_type": "stream",
     "text": [
      "Invalid password: No uppercase characters detected\n",
      "Invalid password: Must have at least 1 digits\n"
     ]
    },
    {
     "data": {
      "text/plain": [
       "False"
      ]
     },
     "execution_count": 28,
     "metadata": {},
     "output_type": "execute_result"
    }
   ],
   "source": [
    "import sys\n",
    "\n",
    "def enter_password():\n",
    "    \n",
    "    print(\"Enter your password:\")\n",
    "    return input()\n",
    "   \n",
    "\n",
    "def password_length(Passwordstring):\n",
    "    \n",
    "    if len(Passwordstring) >=  8:\n",
    "        print(\"Yes . Length of string is atleast 8 characters! \")\n",
    "    else:\n",
    "        print(\"No. Length of string has to be atleast 8 characters. Try Again!\")\n",
    "        \n",
    "def password_case():\n",
    "    \n",
    "    pwdletters = set(password)\n",
    "\n",
    "    lower = any(letter.islower() for letter in pwdletters)\n",
    "    upper = any(letter.isupper() for letter in pwdletters)\n",
    "\n",
    "    if not upper:\n",
    "        print(\"Invalid password: No uppercase characters detected\", file=sys.stderr)\n",
    "\n",
    "    if not lower:\n",
    "        print(\"Invalid password: No lowercase characters detected\", file=sys.stderr)\n",
    "\n",
    "    return lower and upper\n",
    "\n",
    "def Count_Digits(password):\n",
    "    return sum(1 for character in password if character.isdigit())\n",
    "\n",
    "def password_alphanumeric():\n",
    "    passworddigits = Count_Digits(password) >= 1\n",
    "\n",
    "    if not passworddigits:\n",
    "        print(\"Invalid password: Must have at least 1 digits\", file=sys.stderr)\n",
    "\n",
    "    return passworddigits\n",
    "\n",
    "\n",
    "Passwordstring= enter_password()\n",
    "password_length(Passwordstring)\n",
    "password_case()\n",
    "password_alphanumeric()"
   ]
  },
  {
   "cell_type": "code",
   "execution_count": 1,
   "id": "335a1f02",
   "metadata": {},
   "outputs": [
    {
     "data": {
      "text/plain": [
       "True"
      ]
     },
     "execution_count": 1,
     "metadata": {},
     "output_type": "execute_result"
    }
   ],
   "source": [
    "import webbrowser\n",
    "webbrowser.open('https://en.wikipedia.org/wiki/Flower')\n"
   ]
  },
  {
   "cell_type": "code",
   "execution_count": 7,
   "id": "f0a7c84b",
   "metadata": {},
   "outputs": [
    {
     "name": "stdout",
     "output_type": "stream",
     "text": [
      "<!DOCTYPE HTML PUBLIC \"-//IETF//DTD HTML 2.0//EN\">\n",
      "<html><head>\n",
      "<title>404 Not Found</title>\n",
      "</head><body>\n",
      "<h1>Not Found</h1>\n",
      "<p>The requested URL was not found on this server.</p>\n",
      "<p>Additionally, a 404 Not Found\n",
      "error was encountered while trying t\n"
     ]
    }
   ],
   "source": [
    "import requests\n",
    "\n",
    "res = requests.get('https://automatetheboringstuff.com/files.rj.txt')\n",
    "type(res)\n",
    "res.status_code == requests.codes.ok\n",
    "len(res.text)\n",
    "\n",
    "print(res.text[:250])"
   ]
  },
  {
   "cell_type": "code",
   "execution_count": 13,
   "id": "ab5897ff",
   "metadata": {},
   "outputs": [
    {
     "name": "stdout",
     "output_type": "stream",
     "text": [
      "<!DOCTYPE html>\n",
      "<html class=\"client-nojs vector-feature-language-in-header-enabled vector-feature-language-in-main-page-header-disabled vector-feature-sticky-header-disabled vector-feature-page-tools-pinned-disabled vector-feature-toc-pinned-enabled vector-feature-main-menu-pinned-disabled vector-feature-limited-width-enabled vector-feature-limited-width-content-enabled vector-feature-zebra-design-disabled\" lang=\"en\" dir=\"ltr\">\n",
      "<head>\n",
      "<meta charset=\"UTF-8\">\n",
      "<title>Creative writing - Wikipedia</title>\n",
      "<script>document.documentElement.className=\"client-js vector-feature-language-in-header-enabled vector-feature-language-in-main-page-header-disabled vector-feature-sticky-header-disabled vector-feature-page-tools-pinned-disabled vector-feature-toc-pinned-enabled vector-feature-main-menu-pinned-disabled vector-feature-limited-width-enabled vector-feature-limited-width-content-enabled vector-feature-zebra-design-disabled\";(function(){var cookie=document.cookie.match(/(?:^|; )enwikimwclientprefs=([^;]+)/);if(cookie){var featureName=cookie[1];document.documentElement.className=document.documentElement.className.replace(featureName+'-enabled',featureName+'-disabled');}}());RLCONF={\"wgBreakFrames\":false,\"wgSeparatorTransformTable\":[\"\",\"\"],\"wgDigitTransformTable\":[\"\",\"\"],\"wgDefaultDateFormat\":\"dmy\",\"wgMonthNames\":[\"\",\"January\",\"February\",\"March\",\"April\",\"May\",\"June\",\"July\",\"August\",\"September\",\"October\",\"November\",\"December\"],\"wgRequestId\":\"28cb36ae-7bcc-48d8-bf4a-749e24e7db47\",\"wgCSPNonce\":false,\n",
      "\"wgCanonicalNamespace\":\"\",\"wgCanonicalSpecialPageName\":false,\"wgNamespaceNumber\":0,\"wgPageName\":\"Creative_writing\",\"wgTitle\":\"Creative writing\",\"wgCurRevisionId\":1163136688,\"wgRevisionId\":1163136688,\"wgArticleId\":1039873,\"wgIsArticle\":true,\"wgIsRedirect\":false,\"wgAction\":\"view\",\"wgUserName\":null,\"wgUserGroups\":[\"*\"],\"wgCategories\":[\"CS1 maint: others\",\"Articles with short description\",\"Short description matches Wikidata\",\"Articles needing additional references from August 2010\",\"All articles needing additional references\",\"All articles with unsourced statements\",\"Articles with unsourced statements from October 2010\",\"Articles with unsourced statements from November 2022\",\"Articles with FAST identifiers\",\"Articles with BNF identi\n"
     ]
    }
   ],
   "source": [
    "import requests\n",
    "\n",
    "#requests.get function takes a string of url to download\n",
    "res = requests.get('https://en.wikipedia.org/wiki/Creative_writing#:~:text=Creative%20writing%20is%20any%20writing,traditions%20of%20poetry%20and%20poetics.')\n",
    "#by calling type() on requests.get(),it returns a response object , which contains response from web browser\n",
    "type(res)\n",
    "res.status_code == requests.codes.ok\n",
    "len(res.text)\n",
    "\n",
    "print(res.text[:2250])\n",
    "\n",
    "#raise an exception if there was an error downloading the file\n",
    "try:\n",
    "    res.raise_for_status()\n",
    "except Exception as exc:\n",
    "        print('There was a problem %s' % (exc))\n",
    "        \n",
    "        \n",
    "#saving downloaded files to hard drive\n",
    "downloadfile = open('fromwiki.txt', 'wb')\n",
    "for chunk in res.iter_content(100000):\n",
    "    downloadfile.write(chunk)\n",
    "    \n",
    "downloadfile.close()    "
   ]
  },
  {
   "cell_type": "code",
   "execution_count": null,
   "id": "8697d289",
   "metadata": {},
   "outputs": [],
   "source": []
  }
 ],
 "metadata": {
  "kernelspec": {
   "display_name": "Python 3 (ipykernel)",
   "language": "python",
   "name": "python3"
  },
  "language_info": {
   "codemirror_mode": {
    "name": "ipython",
    "version": 3
   },
   "file_extension": ".py",
   "mimetype": "text/x-python",
   "name": "python",
   "nbconvert_exporter": "python",
   "pygments_lexer": "ipython3",
   "version": "3.10.9"
  }
 },
 "nbformat": 4,
 "nbformat_minor": 5
}
